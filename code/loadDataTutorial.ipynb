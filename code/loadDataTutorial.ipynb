{
 "cells": [
  {
   "cell_type": "markdown",
   "id": "a646b3a2-cb33-454e-9ebc-73e30cdc4800",
   "metadata": {},
   "source": [
    "# Loading data with Pandas\n",
    "This is a small demo on how to load data with Python and Pandas.\n",
    "\n",
    "Pandas is a library for handling tables of data. It is very powerful but sometimes a bit counter-intuitive.\n",
    "\n",
    "First you need to install it with `pip install pandas` or `conda install pandas` if you have Anaconda.\n",
    "\n",
    "You can find more info here: https://pandas.pydata.org/docs/getting_started/intro_tutorials/02_read_write.html , \n",
    "and the description of the function `read_csv` here: https://pandas.pydata.org/docs/reference/api/pandas.read_csv.html"
   ]
  },
  {
   "cell_type": "code",
   "execution_count": 1,
   "id": "c8ad74d1-b8c2-4782-a4b1-b76c141dc1a0",
   "metadata": {},
   "outputs": [],
   "source": [
    "import pandas as pd"
   ]
  },
  {
   "cell_type": "markdown",
   "id": "2bea83cf-cfb0-4ae0-86c5-009ad44a33dc",
   "metadata": {},
   "source": [
    "Let us load our csv file with the function `read_csv`. Since the file is not completely standard, we need to tell pandas to ignore the first 7 rows of info in the file (`skiprows=7`), there is no header giving the name of the columns (`header=None`) and the spearation between columns is a space, not a comma (`sep=' '`)"
   ]
  },
  {
   "cell_type": "code",
   "execution_count": 2,
   "id": "296120ef-cde4-4e0b-bfd7-ad4fd2fc02bb",
   "metadata": {},
   "outputs": [],
   "source": [
    "table = pd.read_csv('../data/global-temperatures.csv', header=None, skiprows=7, sep=' ')"
   ]
  },
  {
   "cell_type": "markdown",
   "id": "855b0eef-a390-42c2-a300-cf3452be40eb",
   "metadata": {},
   "source": [
    "We can now display what the table contains, at least the first and last rows: "
   ]
  },
  {
   "cell_type": "code",
   "execution_count": 3,
   "id": "69e6f514-d80b-43e6-a724-f6b36881d865",
   "metadata": {},
   "outputs": [
    {
     "data": {
      "text/html": [
       "<div>\n",
       "<style scoped>\n",
       "    .dataframe tbody tr th:only-of-type {\n",
       "        vertical-align: middle;\n",
       "    }\n",
       "\n",
       "    .dataframe tbody tr th {\n",
       "        vertical-align: top;\n",
       "    }\n",
       "\n",
       "    .dataframe thead th {\n",
       "        text-align: right;\n",
       "    }\n",
       "</style>\n",
       "<table border=\"1\" class=\"dataframe\">\n",
       "  <thead>\n",
       "    <tr style=\"text-align: right;\">\n",
       "      <th></th>\n",
       "      <th>0</th>\n",
       "      <th>1</th>\n",
       "    </tr>\n",
       "  </thead>\n",
       "  <tbody>\n",
       "    <tr>\n",
       "      <th>0</th>\n",
       "      <td>1880</td>\n",
       "      <td>13.572500</td>\n",
       "    </tr>\n",
       "    <tr>\n",
       "      <th>1</th>\n",
       "      <td>1881</td>\n",
       "      <td>13.599167</td>\n",
       "    </tr>\n",
       "    <tr>\n",
       "      <th>2</th>\n",
       "      <td>1882</td>\n",
       "      <td>13.685000</td>\n",
       "    </tr>\n",
       "    <tr>\n",
       "      <th>3</th>\n",
       "      <td>1883</td>\n",
       "      <td>13.671667</td>\n",
       "    </tr>\n",
       "    <tr>\n",
       "      <th>4</th>\n",
       "      <td>1884</td>\n",
       "      <td>13.395000</td>\n",
       "    </tr>\n",
       "    <tr>\n",
       "      <th>...</th>\n",
       "      <td>...</td>\n",
       "      <td>...</td>\n",
       "    </tr>\n",
       "    <tr>\n",
       "      <th>133</th>\n",
       "      <td>2013</td>\n",
       "      <td>14.809167</td>\n",
       "    </tr>\n",
       "    <tr>\n",
       "      <th>134</th>\n",
       "      <td>2014</td>\n",
       "      <td>14.879167</td>\n",
       "    </tr>\n",
       "    <tr>\n",
       "      <th>135</th>\n",
       "      <td>2015</td>\n",
       "      <td>14.975000</td>\n",
       "    </tr>\n",
       "    <tr>\n",
       "      <th>136</th>\n",
       "      <td>2016</td>\n",
       "      <td>15.241667</td>\n",
       "    </tr>\n",
       "    <tr>\n",
       "      <th>137</th>\n",
       "      <td>2017</td>\n",
       "      <td>15.127500</td>\n",
       "    </tr>\n",
       "  </tbody>\n",
       "</table>\n",
       "<p>138 rows × 2 columns</p>\n",
       "</div>"
      ],
      "text/plain": [
       "        0          1\n",
       "0    1880  13.572500\n",
       "1    1881  13.599167\n",
       "2    1882  13.685000\n",
       "3    1883  13.671667\n",
       "4    1884  13.395000\n",
       "..    ...        ...\n",
       "133  2013  14.809167\n",
       "134  2014  14.879167\n",
       "135  2015  14.975000\n",
       "136  2016  15.241667\n",
       "137  2017  15.127500\n",
       "\n",
       "[138 rows x 2 columns]"
      ]
     },
     "execution_count": 3,
     "metadata": {},
     "output_type": "execute_result"
    }
   ],
   "source": [
    "table"
   ]
  },
  {
   "cell_type": "markdown",
   "id": "a2c500e4-fb24-4de5-9e0d-30caf613db71",
   "metadata": {},
   "source": [
    "Let us modify the column names:"
   ]
  },
  {
   "cell_type": "code",
   "execution_count": 4,
   "id": "228638c7-2dd3-4739-ab34-d2d6163df821",
   "metadata": {},
   "outputs": [],
   "source": [
    "table = table.rename(columns={0:\"Year\", 1: \"Temperature\"})"
   ]
  },
  {
   "cell_type": "code",
   "execution_count": 5,
   "id": "ea13f5d0-4214-4206-8b4a-78830ac4feb5",
   "metadata": {},
   "outputs": [
    {
     "data": {
      "text/html": [
       "<div>\n",
       "<style scoped>\n",
       "    .dataframe tbody tr th:only-of-type {\n",
       "        vertical-align: middle;\n",
       "    }\n",
       "\n",
       "    .dataframe tbody tr th {\n",
       "        vertical-align: top;\n",
       "    }\n",
       "\n",
       "    .dataframe thead th {\n",
       "        text-align: right;\n",
       "    }\n",
       "</style>\n",
       "<table border=\"1\" class=\"dataframe\">\n",
       "  <thead>\n",
       "    <tr style=\"text-align: right;\">\n",
       "      <th></th>\n",
       "      <th>Year</th>\n",
       "      <th>Temperature</th>\n",
       "    </tr>\n",
       "  </thead>\n",
       "  <tbody>\n",
       "    <tr>\n",
       "      <th>0</th>\n",
       "      <td>1880</td>\n",
       "      <td>13.572500</td>\n",
       "    </tr>\n",
       "    <tr>\n",
       "      <th>1</th>\n",
       "      <td>1881</td>\n",
       "      <td>13.599167</td>\n",
       "    </tr>\n",
       "    <tr>\n",
       "      <th>2</th>\n",
       "      <td>1882</td>\n",
       "      <td>13.685000</td>\n",
       "    </tr>\n",
       "    <tr>\n",
       "      <th>3</th>\n",
       "      <td>1883</td>\n",
       "      <td>13.671667</td>\n",
       "    </tr>\n",
       "    <tr>\n",
       "      <th>4</th>\n",
       "      <td>1884</td>\n",
       "      <td>13.395000</td>\n",
       "    </tr>\n",
       "    <tr>\n",
       "      <th>...</th>\n",
       "      <td>...</td>\n",
       "      <td>...</td>\n",
       "    </tr>\n",
       "    <tr>\n",
       "      <th>133</th>\n",
       "      <td>2013</td>\n",
       "      <td>14.809167</td>\n",
       "    </tr>\n",
       "    <tr>\n",
       "      <th>134</th>\n",
       "      <td>2014</td>\n",
       "      <td>14.879167</td>\n",
       "    </tr>\n",
       "    <tr>\n",
       "      <th>135</th>\n",
       "      <td>2015</td>\n",
       "      <td>14.975000</td>\n",
       "    </tr>\n",
       "    <tr>\n",
       "      <th>136</th>\n",
       "      <td>2016</td>\n",
       "      <td>15.241667</td>\n",
       "    </tr>\n",
       "    <tr>\n",
       "      <th>137</th>\n",
       "      <td>2017</td>\n",
       "      <td>15.127500</td>\n",
       "    </tr>\n",
       "  </tbody>\n",
       "</table>\n",
       "<p>138 rows × 2 columns</p>\n",
       "</div>"
      ],
      "text/plain": [
       "     Year  Temperature\n",
       "0    1880    13.572500\n",
       "1    1881    13.599167\n",
       "2    1882    13.685000\n",
       "3    1883    13.671667\n",
       "4    1884    13.395000\n",
       "..    ...          ...\n",
       "133  2013    14.809167\n",
       "134  2014    14.879167\n",
       "135  2015    14.975000\n",
       "136  2016    15.241667\n",
       "137  2017    15.127500\n",
       "\n",
       "[138 rows x 2 columns]"
      ]
     },
     "execution_count": 5,
     "metadata": {},
     "output_type": "execute_result"
    }
   ],
   "source": [
    "table"
   ]
  },
  {
   "cell_type": "code",
   "execution_count": 6,
   "id": "51d0075a-be15-46b9-a2d3-37a3d7c8784b",
   "metadata": {},
   "outputs": [
    {
     "name": "stdout",
     "output_type": "stream",
     "text": [
      "<class 'pandas.core.frame.DataFrame'>\n",
      "RangeIndex: 138 entries, 0 to 137\n",
      "Data columns (total 2 columns):\n",
      " #   Column       Non-Null Count  Dtype  \n",
      "---  ------       --------------  -----  \n",
      " 0   Year         138 non-null    int64  \n",
      " 1   Temperature  138 non-null    float64\n",
      "dtypes: float64(1), int64(1)\n",
      "memory usage: 2.3 KB\n"
     ]
    }
   ],
   "source": [
    "# a few more information about the table\n",
    "table.info()"
   ]
  },
  {
   "cell_type": "markdown",
   "id": "8dbfcbd7-431f-4e86-9c24-125c2cdf90d0",
   "metadata": {},
   "source": [
    "We can also get more information about each column by using functions such as `hist()` which automatically compute the histogram of values for each column (here the histogram of the years does not make much sense but the temperature one is insightful). You can play with the options of the histogram function to display it better, for example by plotting only the temperature and changing the number of bins."
   ]
  },
  {
   "cell_type": "code",
   "execution_count": 7,
   "id": "7362c079-b4b7-419c-93e7-576ba0081c4d",
   "metadata": {},
   "outputs": [
    {
     "data": {
      "text/plain": [
       "array([[<Axes: title={'center': 'Year'}>,\n",
       "        <Axes: title={'center': 'Temperature'}>]], dtype=object)"
      ]
     },
     "execution_count": 7,
     "metadata": {},
     "output_type": "execute_result"
    },
    {
     "data": {
      "image/png": "[encoded data removed]",
      "text/plain": [
       "<Figure size 640x480 with 2 Axes>"
      ]
     },
     "metadata": {},
     "output_type": "display_data"
    }
   ],
   "source": [
    "table.hist()"
   ]
  },
  {
   "cell_type": "markdown",
   "id": "0161c6d6-89ae-4646-b73c-5e227b62a5ea",
   "metadata": {},
   "source": [
    "Even better, let us see the evolution of temperatures:"
   ]
  },
  {
   "cell_type": "code",
   "execution_count": 8,
   "id": "4870894c-9a51-4789-874e-468c772bf2a8",
   "metadata": {},
   "outputs": [
    {
     "data": {
      "text/plain": [
       "<Axes: xlabel='Year'>"
      ]
     },
     "execution_count": 8,
     "metadata": {},
     "output_type": "execute_result"
    },
    {
     "data": {
      "image/png": "[encoded data removed]",
      "text/plain": [
       "<Figure size 640x480 with 1 Axes>"
      ]
     },
     "metadata": {},
     "output_type": "display_data"
    }
   ],
   "source": [
    "table.plot(x=\"Year\")"
   ]
  },
  {
   "cell_type": "code",
   "execution_count": null,
   "id": "fb771e47-72b3-403e-b20d-f90e04bf37da",
   "metadata": {},
   "outputs": [],
   "source": []
  }
 ],
 "metadata": {
  "kernelspec": {
   "display_name": "Python 3 (ipykernel)",
   "language": "python",
   "name": "python3"
  },
  "language_info": {
   "codemirror_mode": {
    "name": "ipython",
    "version": 3
   },
   "file_extension": ".py",
   "mimetype": "text/x-python",
   "name": "python",
   "nbconvert_exporter": "python",
   "pygments_lexer": "ipython3",
   "version": "3.9.18"
  }
 },
 "nbformat": 4,
 "nbformat_minor": 5
}
